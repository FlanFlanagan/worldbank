{
 "cells": [
  {
   "cell_type": "code",
   "execution_count": 8,
   "id": "121fc7dc",
   "metadata": {},
   "outputs": [],
   "source": [
    "import os\n",
    "import rasterio as ras\n",
    "from osgeo import gdal, ogr\n",
    "import matplotlib.pyplot as plt\n",
    "from rasterio.plot import show\n",
    "import numpy as np\n",
    "import pandas as pd\n",
    "import geopandas as gp\n",
    "from scipy.interpolate import interp1d"
   ]
  },
  {
   "cell_type": "code",
   "execution_count": 2,
   "id": "fc39dbeb",
   "metadata": {},
   "outputs": [],
   "source": [
    "ra = ras.open('/home/robert/workbank_2021/africa_risk/Africa/res/landslides/landslides.tif')\n",
    "shp = '/home/robert/workbank_2021/africa_shp/afr_g2014_2013_0.shp'\n",
    "fragility = pd.read_csv('/home/robert/workbank_2021/africa_risk/Fragility_curves.csv', header=[0,1], index_col=0)\n",
    "\n",
    "def create_tifs(files, bounds, res):\n",
    "    for a in files:\n",
    "        print(a)\n",
    "        t = gdal.Open(a)\n",
    "        end = a.split('/')[-1][:-4]\n",
    "        gdal.Warp('test_'+end+'.tif', [a], creationOptions=[\"COMPRESS=DEFLATE\"], \n",
    "        outputBounds=bounds, xRes=res, yRes=res, dstSRS='EPSG:4326', cutlineDSName=shp)\n",
    "\n",
    "def calc_intersection(files: list, base_cutoff=0., field_cutoff=[0]):\n",
    "    gdal_list = []\n",
    "    for a in files:\n",
    "        mp = gdal.Open(a)\n",
    "        x = mp.GetRasterBand(1).ReadAsArray().flatten()\n",
    "        gdal_list.append(x)\n",
    "    t = np.where(gdal_list[0] > base_cutoff)\n",
    "    for i in range(len(gdal_list)):\n",
    "        y = gdal_list[i][t]\n",
    "        n = np.where(y > field_cutoff[i])\n",
    "        print(len(n[0])/len(t[0]))\n",
    "    return gdal_list\n",
    "\n",
    "def cutoff_calc(risk_file: str, infrastructure_file: str, risk_cutoff=0.):\n",
    "    r_array = gdal.Open(risk_file).getRasterBand(1).ReadAsArray().flatten()\n",
    "    i_array = gdal.Open(infrastructure_file).getRasterBand(1).ReadAsArray().flatten()\n",
    "    t = np.where(r_array > risk_cutoff)\n",
    "    n = np.where(y > field_cutoff[i])\n",
    "    print(len(n[0])/len(t[0]))\n",
    "    return \n",
    "\n",
    "def fragility_calc(file: str, df: object):\n",
    "    mp = gdal.Open(file)\n",
    "    arr = mp.GetRasterBand(1).ReadAsArray()\n",
    "    x = list(df['x'])\n",
    "    y = list(df['y'])\n",
    "    f = interp1d(x, y)\n",
    "    new = f(arr)\n",
    "    return new\n",
    "\n",
    "def risk_overlay(risk_file: str, infrastructure_file: str, risk_cutoff: float):\n",
    "    r_array = gdal.Open(risk_file).getRasterBand(1).ReadAsArray()\n",
    "    i_array = gdal.Open(infrastructure_file).getRasterBand(1).ReadAsArray()\n",
    "    for i in range(len(r_array)):\n",
    "        for j in range(len(r_array[i])):\n",
    "            if r_array[i][j] <= risk_cutoff:\n",
    "                i_array[i][j] = np.nan\n",
    "    return i_array\n",
    "\n",
    "def write_tif(out_file: str, geo_tif_in: str, input_array, band):\n",
    "    driver = gdal.GetDriverByName(\"GTiff\")\n",
    "    geotrans = gdal.Open(geo_tif_in)\n",
    "    out_ds = driver.Create(out_file, input_array.shape[1], input_array.shape[0], 1, gdal.GDT_Float32)\n",
    "    out_ds.SetProjection(geotrans.GetProjection())\n",
    "    out_ds.SetGeoTransform(geotrans.GetGeoTransform())\n",
    "    band = out_ds.GetRasterBand(1)\n",
    "    band.WriteArray(input_array)\n",
    "    band.FlushCache()\n",
    "    band.ComputeStatistics(False)\n"
   ]
  },
  {
   "cell_type": "code",
   "execution_count": 3,
   "id": "9b5689ed",
   "metadata": {},
   "outputs": [
    {
     "name": "stdout",
     "output_type": "stream",
     "text": [
      "/home/robert/workbank_2021/africa_risk/gridfind.tif\n",
      "/home/robert/workbank_2021/africa_risk/Africa/res/landslides/landslides.tif\n"
     ]
    }
   ],
   "source": [
    "in_files = [#'/home/robert/workbank_2021/africa_risk/powerplants.tif',\n",
    "        '/home/robert/workbank_2021/africa_risk/gridfind.tif',\n",
    "        '/home/robert/workbank_2021/africa_risk/Africa/res/landslides/landslides.tif',\n",
    "        '/home/robert/workbank_2021/africa_risk/Africa/res/flooding/flooding.tif',\n",
    "        '/home/robert/workbank_2021/africa_risk/Africa/res/fire/fire.tif',\n",
    "        '/home/robert/workbank_2021/africa_risk/Africa/res/seismic/pga_475y.tif',\n",
    "        '/home/robert/workbank_2021/africa_risk/lv.tif'\n",
    "        ]\n",
    "\n",
    "out_files = [#'/home/robert/workbank_2021/africa_risk/test_powerplants.tif',\n",
    "        '/home/robert/workbank_2021/africa_risk/test_gridfind.tif',\n",
    "        '/home/robert/workbank_2021/africa_risk/test_flooding.tif',\n",
    "        '/home/robert/workbank_2021/africa_risk/test_landslides.tif',\n",
    "        '/home/robert/workbank_2021/africa_risk/test_fire.tif',\n",
    "        '/home/robert/workbank_2021/africa_risk/test_pga_475y.tif',\n",
    "        '/home/robert/workbank_2021/africa_risk/test_lv.tif'\n",
    "        ]\n",
    "\n",
    "field_cutoff = [0, 0, 0, 0, 0, 0]\n",
    "create_tifs(in_files, ra.bounds, ra.res[0])\n",
    "print('tifs done')\n",
    "l1 = calc_intersection(out_files, field_cutoff=field_cutoff)"
   ]
  },
  {
   "cell_type": "code",
   "execution_count": null,
   "id": "8843b93b",
   "metadata": {},
   "outputs": [],
   "source": [
    "def Feature_to_Raster(input_shp, output_tiff, cellsize, field_name=False, NoData_value=-9999):\n",
    "    \"\"\"\n",
    "    Converts a shapefile into a raster\n",
    "    \"\"\"\n",
    "\n",
    "    # Input\n",
    "    inp_driver = ogr.GetDriverByName('ESRI Shapefile')\n",
    "    inp_source = inp_driver.Open(input_shp, 0)\n",
    "    inp_lyr = inp_source.GetLayer()\n",
    "    inp_srs = inp_lyr.GetSpatialRef()\n",
    "\n",
    "    # Extent\n",
    "    x_min, x_max, y_min, y_max = inp_lyr.GetExtent()\n",
    "    x_ncells = int((x_max - x_min) / cellsize)\n",
    "    y_ncells = int((y_max - y_min) / cellsize)\n",
    "\n",
    "    # Output\n",
    "    out_driver = gdal.GetDriverByName('GTiff')\n",
    "    out_source = out_driver.Create(output_tiff, x_ncells, y_ncells,1, gdal.GDT_Int16)\n",
    "    print(\"+\"*50)\n",
    "    print(x_ncells, y_ncells,1, gdal.GDT_Int16)\n",
    "\n",
    "    out_source.SetGeoTransform((x_min, cellsize, 0, y_max, 0, -cellsize))\n",
    "    out_source.SetProjection(inp_srs.ExportToWkt())\n",
    "    out_lyr = out_source.GetRasterBand(1)\n",
    "    out_lyr.SetNoDataValue(NoData_value)\n",
    "\n",
    "    # Rasterize\n",
    "    # print(inp_lyr)\n",
    "    if field_name:\n",
    "        gdal.RasterizeLayer(out_source, [1], inp_lyr,options=[\"ATTRIBUTE={0}\".format(field_name)])\n",
    "    else:\n",
    "        gdal.RasterizeLayer(out_source, [1], inp_lyr, burn_values=[1])\n",
    "\n",
    "    # Save and/or close the data sources\n",
    "    inp_source = None\n",
    "    out_source = None\n",
    "\n",
    "    # Return\n",
    "    return output_tiff"
   ]
  },
  {
   "cell_type": "code",
   "execution_count": null,
   "id": "e2c792d1",
   "metadata": {},
   "outputs": [],
   "source": [
    "#Feature_to_Raster('openstrmap/openstrmap.shp', 'openstrmap.tif', ra.res[0])\n",
    "#Feature_to_Raster('gridfind/gridfind.shp', 'gridfind.tif', ra.res[0])"
   ]
  },
  {
   "cell_type": "code",
   "execution_count": null,
   "id": "45b077db",
   "metadata": {},
   "outputs": [
    {
     "data": {
      "text/plain": [
       "array([0., 0., 0., ..., 0., 0., 0.], dtype=float32)"
      ]
     },
     "execution_count": 24,
     "metadata": {},
     "output_type": "execute_result"
    }
   ],
   "source": [
    "some = gdal.Open('/home/robert/workbank_2021/africa_risk/test_flooding.tif')\n",
    "some.GetRasterBand(1).ReadAsArray()[0]"
   ]
  },
  {
   "cell_type": "code",
   "execution_count": null,
   "id": "4e94d025",
   "metadata": {},
   "outputs": [
    {
     "ename": "TypeError",
     "evalue": "object of type 'int' has no len()",
     "output_type": "error",
     "traceback": [
      "\u001b[0;31m---------------------------------------------------------------------------\u001b[0m",
      "\u001b[0;31mTypeError\u001b[0m                                 Traceback (most recent call last)",
      "\u001b[1;32m/home/robert/workbank_2021/africa_risk/africa.ipynb Cell 7'\u001b[0m in \u001b[0;36m<module>\u001b[0;34m\u001b[0m\n\u001b[0;32m----> <a href='vscode-notebook-cell:/home/robert/workbank_2021/africa_risk/africa.ipynb#ch0000007?line=0'>1</a>\u001b[0m n \u001b[39m=\u001b[39m risk_intersect(\u001b[39m'\u001b[39;49m\u001b[39m/home/robert/workbank_2021/africa_risk/test_flooding.tif\u001b[39;49m\u001b[39m'\u001b[39;49m, fragility[\u001b[39m'\u001b[39;49m\u001b[39mTD Flood\u001b[39;49m\u001b[39m'\u001b[39;49m])\n",
      "\u001b[1;32m/home/robert/workbank_2021/africa_risk/africa.ipynb Cell 2'\u001b[0m in \u001b[0;36mrisk_intersect\u001b[0;34m(file, df)\u001b[0m\n\u001b[1;32m     <a href='vscode-notebook-cell:/home/robert/workbank_2021/africa_risk/africa.ipynb#ch0000001?line=32'>33</a>\u001b[0m \u001b[39mfor\u001b[39;00m i \u001b[39min\u001b[39;00m \u001b[39mrange\u001b[39m(\u001b[39mlen\u001b[39m(arr)):\n\u001b[1;32m     <a href='vscode-notebook-cell:/home/robert/workbank_2021/africa_risk/africa.ipynb#ch0000001?line=33'>34</a>\u001b[0m     temp_arr \u001b[39m=\u001b[39m []\n\u001b[0;32m---> <a href='vscode-notebook-cell:/home/robert/workbank_2021/africa_risk/africa.ipynb#ch0000001?line=34'>35</a>\u001b[0m     \u001b[39mfor\u001b[39;00m j \u001b[39min\u001b[39;00m \u001b[39mrange\u001b[39m(\u001b[39mlen\u001b[39;49m(i)):\n\u001b[1;32m     <a href='vscode-notebook-cell:/home/robert/workbank_2021/africa_risk/africa.ipynb#ch0000001?line=35'>36</a>\u001b[0m         temp_arr\u001b[39m.\u001b[39mappend(f(j))\n\u001b[1;32m     <a href='vscode-notebook-cell:/home/robert/workbank_2021/africa_risk/africa.ipynb#ch0000001?line=36'>37</a>\u001b[0m \u001b[39mreturn\u001b[39;00m new\n",
      "\u001b[0;31mTypeError\u001b[0m: object of type 'int' has no len()"
     ]
    }
   ],
   "source": [
    "n = fragility_calc('/home/robert/workbank_2021/africa_risk/test_flooding.tif', fragility['TD Flood'])"
   ]
  },
  {
   "cell_type": "code",
   "execution_count": 3,
   "id": "deba5127",
   "metadata": {},
   "outputs": [
    {
     "data": {
      "text/plain": [
       "<osgeo.gdal.Dataset; proxy of <Swig Object of type 'GDALDatasetShadow *' at 0x7f2d137f53f0> >"
      ]
     },
     "execution_count": 3,
     "metadata": {},
     "output_type": "execute_result"
    }
   ],
   "source": [
    "gdal.Warp('test_moz.tif', '/home/robert/workbank_2021/africa_risk/Flood Maps/africa_flood_lv_risk_0ft.tif', cutlineDSName='/home/robert/workbank_2021/africa_shp/country_shapes/Mozambique.shp', cropToCutline=True)"
   ]
  },
  {
   "cell_type": "code",
   "execution_count": 17,
   "id": "9ec37bca",
   "metadata": {},
   "outputs": [],
   "source": [
    "afr = gp.read_file('/home/robert/workbank_2021/africa_shp/afr_g2014_2013_0.shp')\n",
    "ctr = afr['ADM0_NAME'].unique()\n",
    "path_i = '/home/robert/workbank_2021/africa_risk/Flood_Maps/country_maps/'\n",
    "shp_path = '/home/robert/workbank_2021/africa_shp/country_shapes/'\n",
    "for c in ctr:\n",
    "        outfile = path_i + c +'/' + c + '.tif'\n",
    "        gtif_file = '/home/robert/workbank_2021/africa_risk/Flood_Maps/africa_flood_risk.tif'\n",
    "        shp_file = shp_path + c + '.shp'\n",
    "        gdal.Warp(outfile, \n",
    "                gtif_file, \n",
    "                cutlineDSName=shp_file, \n",
    "                cropToCutline=True)\n"
   ]
  },
  {
   "cell_type": "code",
   "execution_count": 12,
   "id": "39078d0c",
   "metadata": {},
   "outputs": [
    {
     "name": "stdout",
     "output_type": "stream",
     "text": [
      "0...10...20...30...40...50...60...70...80...90...100 - done.\n",
      "\n"
     ]
    }
   ],
   "source": [
    "path = '/home/robert/workbank_2021/africa_risk/Flood_Maps/africa_flood_lv_risk_'\n",
    "fi_str = ''\n",
    "for i in range(0, 24):\n",
    "    temp = path + str(i) + 'ft.tif'\n",
    "    fi_str += temp\n",
    "    fi_str += ' '\n",
    "\n",
    "import os\n",
    "command = \"gdal_merge.py -separate -o /home/robert/workbank_2021/africa_risk/Flood_Maps/africa_flood_risk.tif -of gtiff \" + fi_str\n",
    "print(os.popen(command).read())"
   ]
  },
  {
   "cell_type": "code",
   "execution_count": 13,
   "id": "dbfafa25",
   "metadata": {},
   "outputs": [],
   "source": [
    "pfs = gdal.Open('/home/robert/workbank_2021/africa_risk/Flood_Maps/africa_flood_risk.tif')"
   ]
  },
  {
   "cell_type": "code",
   "execution_count": 14,
   "id": "d8e604fb",
   "metadata": {},
   "outputs": [
    {
     "data": {
      "text/plain": [
       "24"
      ]
     },
     "execution_count": 14,
     "metadata": {},
     "output_type": "execute_result"
    }
   ],
   "source": [
    "pfs.RasterCount"
   ]
  },
  {
   "cell_type": "code",
   "execution_count": null,
   "id": "1c2f9fc8",
   "metadata": {},
   "outputs": [],
   "source": []
  }
 ],
 "metadata": {
  "interpreter": {
   "hash": "15aa7ebaf88d70390dccc0e15b258933170998d15486f4914f82332f08408334"
  },
  "kernelspec": {
   "display_name": "Python 3.8.12 64-bit ('geopandas': conda)",
   "language": "python",
   "name": "python3"
  },
  "language_info": {
   "codemirror_mode": {
    "name": "ipython",
    "version": 3
   },
   "file_extension": ".py",
   "mimetype": "text/x-python",
   "name": "python",
   "nbconvert_exporter": "python",
   "pygments_lexer": "ipython3",
   "version": "3.8.12"
  }
 },
 "nbformat": 4,
 "nbformat_minor": 5
}
